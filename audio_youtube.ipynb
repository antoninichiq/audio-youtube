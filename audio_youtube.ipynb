{
 "cells": [
  {
   "cell_type": "code",
   "execution_count": 11,
   "metadata": {},
   "outputs": [],
   "source": [
    "import yt_dlp"
   ]
  },
  {
   "cell_type": "code",
   "execution_count": 12,
   "metadata": {},
   "outputs": [],
   "source": [
    "def download_audio(video_url):\n",
    "    ydl_opts = {\n",
    "        'format': 'bestaudio/best',\n",
    "        'postprocessors': [{\n",
    "            'key': 'FFmpegExtractAudio',\n",
    "            'preferredcodec': 'mp3',\n",
    "            'preferredquality': '192',\n",
    "        }],\n",
    "        'outtmpl': 'audio.%(ext)s',\n",
    "        'ffmpeg_location': \"C:/ffmpeg/bin/ffmpeg.exe\"\n",
    "    }\n",
    "\n",
    "    with yt_dlp.YoutubeDL(ydl_opts) as ydl:\n",
    "        ydl.download([video_url])"
   ]
  },
  {
   "cell_type": "code",
   "execution_count": 14,
   "metadata": {},
   "outputs": [
    {
     "name": "stdout",
     "output_type": "stream",
     "text": [
      "[youtube] Extracting URL: https://www.youtube.com/watch?v=38uI4xYzwfM&list\n",
      "[youtube] 38uI4xYzwfM: Downloading webpage\n",
      "[youtube] 38uI4xYzwfM: Downloading ios player API JSON\n",
      "[youtube] 38uI4xYzwfM: Downloading m3u8 information\n",
      "[info] 38uI4xYzwfM: Downloading 1 format(s): 251\n",
      "[download] Destination: audio.webm\n",
      "[download] 100% of    6.20MiB in 00:00:00 at 8.49MiB/s   \n",
      "[ExtractAudio] Destination: audio.mp3\n",
      "Deleting original file audio.webm (pass -k to keep)\n"
     ]
    }
   ],
   "source": [
    "video_url = 'https://www.youtube.com/watch?v=38uI4xYzwfM&list'\n",
    "download_audio(video_url)\n"
   ]
  }
 ],
 "metadata": {
  "kernelspec": {
   "display_name": "Python 3",
   "language": "python",
   "name": "python3"
  },
  "language_info": {
   "codemirror_mode": {
    "name": "ipython",
    "version": 3
   },
   "file_extension": ".py",
   "mimetype": "text/x-python",
   "name": "python",
   "nbconvert_exporter": "python",
   "pygments_lexer": "ipython3",
   "version": "3.8.19"
  }
 },
 "nbformat": 4,
 "nbformat_minor": 2
}
